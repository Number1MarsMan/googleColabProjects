{
  "nbformat": 4,
  "nbformat_minor": 0,
  "metadata": {
    "colab": {
      "provenance": []
    },
    "kernelspec": {
      "name": "python3",
      "display_name": "Python 3"
    },
    "language_info": {
      "name": "python"
    }
  },
  "cells": [
    {
      "cell_type": "code",
      "execution_count": 1,
      "metadata": {
        "colab": {
          "base_uri": "https://localhost:8080/"
        },
        "id": "uItZWZxdEhfV",
        "outputId": "ee422cfa-64cc-4b38-a92c-ba1fcb7e63e8"
      },
      "outputs": [
        {
          "output_type": "stream",
          "name": "stdout",
          "text": [
            "Requirement already satisfied: kaggle in /usr/local/lib/python3.11/dist-packages (1.6.17)\n",
            "Requirement already satisfied: six>=1.10 in /usr/local/lib/python3.11/dist-packages (from kaggle) (1.17.0)\n",
            "Requirement already satisfied: certifi>=2023.7.22 in /usr/local/lib/python3.11/dist-packages (from kaggle) (2025.1.31)\n",
            "Requirement already satisfied: python-dateutil in /usr/local/lib/python3.11/dist-packages (from kaggle) (2.8.2)\n",
            "Requirement already satisfied: requests in /usr/local/lib/python3.11/dist-packages (from kaggle) (2.32.3)\n",
            "Requirement already satisfied: tqdm in /usr/local/lib/python3.11/dist-packages (from kaggle) (4.67.1)\n",
            "Requirement already satisfied: python-slugify in /usr/local/lib/python3.11/dist-packages (from kaggle) (8.0.4)\n",
            "Requirement already satisfied: urllib3 in /usr/local/lib/python3.11/dist-packages (from kaggle) (2.3.0)\n",
            "Requirement already satisfied: bleach in /usr/local/lib/python3.11/dist-packages (from kaggle) (6.2.0)\n",
            "Requirement already satisfied: webencodings in /usr/local/lib/python3.11/dist-packages (from bleach->kaggle) (0.5.1)\n",
            "Requirement already satisfied: text-unidecode>=1.3 in /usr/local/lib/python3.11/dist-packages (from python-slugify->kaggle) (1.3)\n",
            "Requirement already satisfied: charset-normalizer<4,>=2 in /usr/local/lib/python3.11/dist-packages (from requests->kaggle) (3.4.1)\n",
            "Requirement already satisfied: idna<4,>=2.5 in /usr/local/lib/python3.11/dist-packages (from requests->kaggle) (3.10)\n"
          ]
        }
      ],
      "source": [
        "# prompt: pip install kaggle\n",
        "\n",
        "!pip install kaggle\n"
      ]
    },
    {
      "cell_type": "code",
      "source": [
        "# prompt: download the databse from the website https://www.kaggle.com/datasets/udaymalviya/bank-loan-data/data and save into an array\n",
        "\n",
        "import pandas as pd\n",
        "\n",
        "# Assuming you have already configured Kaggle API and the kaggle.json is in the correct location\n",
        "# as described in previous responses.\n",
        "!kaggle datasets download -d udaymalviya/bank-loan-data\n",
        "\n",
        "# Unzip the downloaded file\n",
        "!unzip bank-loan-data.zip\n",
        "\n",
        "# Load the dataset into a pandas DataFrame\n",
        "data = pd.read_csv('loan_data.csv')  # Replace 'bank_loan_data.csv' with the actual filename if different\n",
        "\n",
        "# Convert the DataFrame to a NumPy array if needed\n",
        "data_array = data.values\n",
        "\n",
        "# Now data_array holds the data from the CSV file in a NumPy array format.\n",
        "data_array\n"
      ],
      "metadata": {
        "colab": {
          "base_uri": "https://localhost:8080/"
        },
        "id": "FpQuUjBAFnT8",
        "outputId": "fc4b8586-b015-4c89-8650-4a26d98d0988"
      },
      "execution_count": 2,
      "outputs": [
        {
          "output_type": "stream",
          "name": "stdout",
          "text": [
            "Warning: Looks like you're using an outdated API Version, please consider updating (server 1.7.4 / client 1.6.17)\n",
            "Dataset URL: https://www.kaggle.com/datasets/udaymalviya/bank-loan-data\n",
            "License(s): MIT\n",
            "Downloading bank-loan-data.zip to /content\n",
            "  0% 0.00/751k [00:00<?, ?B/s]\n",
            "100% 751k/751k [00:00<00:00, 57.0MB/s]\n",
            "Archive:  bank-loan-data.zip\n",
            "  inflating: loan_data.csv           \n"
          ]
        },
        {
          "output_type": "execute_result",
          "data": {
            "text/plain": [
              "array([[22.0, 'female', 'Master', ..., 561, 'No', 1],\n",
              "       [21.0, 'female', 'High School', ..., 504, 'Yes', 0],\n",
              "       [25.0, 'female', 'High School', ..., 635, 'No', 1],\n",
              "       ...,\n",
              "       [33.0, 'male', 'Associate', ..., 668, 'No', 1],\n",
              "       [29.0, 'male', 'Bachelor', ..., 604, 'No', 1],\n",
              "       [24.0, 'male', 'High School', ..., 628, 'No', 1]], dtype=object)"
            ]
          },
          "metadata": {},
          "execution_count": 2
        }
      ]
    }
  ]
}